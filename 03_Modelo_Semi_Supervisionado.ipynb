{
  "nbformat": 4,
  "nbformat_minor": 0,
  "metadata": {
    "colab": {
      "provenance": []
    },
    "kernelspec": {
      "name": "python3",
      "display_name": "Python 3"
    },
    "language_info": {
      "name": "python"
    }
  },
  "cells": [
    {
      "cell_type": "markdown",
      "source": [
        "# 🚀 Classificação Semi-Supervisionada com Naïve Bayes\n",
        "\n",
        "Este notebook demonstra como usar o aprendizado semi-supervisionado para melhorar um modelo quando se tem uma quantidade limitada de dados rotulados.\n",
        "\n",
        "O fluxo de trabalho será:\n",
        "1.  Preparar os dados rotulados e simular um conjunto de dados não rotulados.\n",
        "2.  Usar o Naïve Bayes como base para um modelo semi-supervisionado.\n",
        "3.  Treinar o modelo com ambos os conjuntos de dados.\n",
        "4.  Avaliar o desempenho final."
      ],
      "metadata": {
        "id": "TmRx0iSRSaRM"
      }
    },
    {
      "cell_type": "code",
      "execution_count": null,
      "metadata": {
        "colab": {
          "base_uri": "https://localhost:8080/"
        },
        "id": "Htu6z3NdSZu4",
        "outputId": "b80ad0a6-e265-419c-a843-cc2467f3b84b"
      },
      "outputs": [
        {
          "output_type": "stream",
          "name": "stdout",
          "text": [
            "Etapas de preparação concluídas.\n",
            "Dados Rotulados para Treino: 3\n",
            "Dados Não Rotulados para Treino: 4\n",
            "Dados para Teste: 3\n"
          ]
        }
      ],
      "source": [
        "### 1. Preparar os Dados (Rotulados e Não Rotulados)\n",
        "\n",
        "# Importar bibliotecas necessárias\n",
        "import pandas as pd\n",
        "import numpy as np\n",
        "from sklearn.model_selection import train_test_split\n",
        "from sklearn.naive_bayes import GaussianNB\n",
        "from sklearn.semi_supervised import SelfTrainingClassifier\n",
        "from sklearn.metrics import accuracy_score, confusion_matrix, classification_report\n",
        "\n",
        "# Criar o DataFrame com todos os dados\n",
        "data = {\n",
        "    'id': [1, 2, 3, 4, 5, 6, 7, 8, 9, 10],\n",
        "    'n_palavras_suspeitas': [8, 0, 4, 2, 10, 1, 6, 3, 9, 0],\n",
        "    'tamanho_email': [500, 120, 300, 250, 800, 150, 400, 200, 600, 100],\n",
        "    'tem_link': [1, 0, 1, 0, 1, 0, 1, 0, 1, 0],\n",
        "    'rotulo': [1, 0, 1, 0, 1, 0, 1, 0, 1, 1]\n",
        "}\n",
        "df = pd.DataFrame(data)\n",
        "\n",
        "# Separar características (X) e rótulo (y)\n",
        "X_full = df[['n_palavras_suspeitas', 'tamanho_email', 'tem_link']]\n",
        "y_full = df['rotulo']\n",
        "\n",
        "# Dividir os dados em conjuntos de treinamento e teste (mesma divisão de antes)\n",
        "X_treino_full, X_teste, y_treino_full, y_teste = train_test_split(X_full, y_full, test_size=0.3, random_state=42)\n",
        "\n",
        "# Agora, vamos simular o cenário semi-supervisionado:\n",
        "# Pegar uma parte do conjunto de treinamento como 'rotulada' e o resto como 'não rotulada'\n",
        "X_labeled, X_unlabeled, y_labeled, y_unlabeled = train_test_split(\n",
        "    X_treino_full, y_treino_full, test_size=0.5, random_state=42\n",
        ")\n",
        "\n",
        "# Criar o conjunto de dados de treinamento semi-supervisionado\n",
        "# Os dados 'não rotulados' têm seu rótulo substituído por -1 (convensão do sklearn)\n",
        "y_treino_semisup = np.concatenate([y_labeled, np.full_like(y_unlabeled, -1)])\n",
        "X_treino_semisup = np.concatenate([X_labeled, X_unlabeled])\n",
        "\n",
        "print(\"Etapas de preparação concluídas.\")\n",
        "print(f\"Dados Rotulados para Treino: {len(X_labeled)}\")\n",
        "print(f\"Dados Não Rotulados para Treino: {len(X_unlabeled)}\")\n",
        "print(f\"Dados para Teste: {len(X_teste)}\")"
      ]
    },
    {
      "cell_type": "markdown",
      "source": [
        "### 2. Criar e Treinar o Modelo Semi-Supervisionado\n",
        "\n",
        "Usaremos o `SelfTrainingClassifier` com o `GaussianNB` como nosso modelo base. O processo é o seguinte:\n",
        "1.  O modelo base (`GaussianNB`) é treinado apenas com os dados rotulados.\n",
        "2.  Ele faz previsões nos dados não rotulados.\n",
        "3.  Se a confiança da previsão for alta (acima de um `threshold`), ele adiciona essa amostra ao conjunto de treinamento.\n",
        "4.  O processo se repete até que todos os dados não rotulados sejam classificados ou o limite seja atingido."
      ],
      "metadata": {
        "id": "ir7cDFzYSeJf"
      }
    },
    {
      "cell_type": "code",
      "source": [
        "# Definir o modelo base\n",
        "modelo_base = GaussianNB()\n",
        "\n",
        "# Criar o modelo semi-supervisionado\n",
        "# Usamos um limiar de 0.8 para adicionar dados ao conjunto de treinamento\n",
        "modelo_semisup = SelfTrainingClassifier(modelo_base, threshold=0.8)\n",
        "\n",
        "# Treinar o modelo com os dados rotulados E os não rotulados\n",
        "modelo_semisup.fit(X_treino_semisup, y_treino_semisup)\n",
        "\n",
        "print(\"\\nModelo semi-supervisionado treinado com sucesso!\")"
      ],
      "metadata": {
        "colab": {
          "base_uri": "https://localhost:8080/"
        },
        "id": "JKDVCxX5SfW-",
        "outputId": "75b2222a-92a5-44b9-afb1-05776709fefa"
      },
      "execution_count": null,
      "outputs": [
        {
          "output_type": "stream",
          "name": "stdout",
          "text": [
            "\n",
            "Modelo semi-supervisionado treinado com sucesso!\n"
          ]
        }
      ]
    },
    {
      "cell_type": "markdown",
      "source": [
        "### 3. Avaliar o Desempenho do Modelo\n",
        "\n",
        "Agora, vamos fazer as previsões nos dados de teste (que o modelo nunca viu) e avaliar a performance."
      ],
      "metadata": {
        "id": "Janc06YnSgtf"
      }
    },
    {
      "cell_type": "code",
      "source": [
        "# Fazer previsões nos dados de teste\n",
        "previsoes_semisup = modelo_semisup.predict(X_teste)\n",
        "\n",
        "# Avaliar as previsões\n",
        "acuracia_semisup = accuracy_score(y_teste, previsoes_semisup)\n",
        "matriz_semisup = confusion_matrix(y_teste, previsoes_semisup)\n",
        "relatorio_semisup = classification_report(y_teste, previsoes_semisup, target_names=['Não Spam', 'Spam'])\n",
        "\n",
        "print(f\"\\nAcurácia do modelo semi-supervisionado: {acuracia_semisup:.2f}\")\n",
        "print(\"\\nMatriz de Confusão (semi-supervisionada):\")\n",
        "print(matriz_semisup)\n",
        "print(\"\\nRelatório de Classificação (semi-supervisionado):\")\n",
        "print(relatorio_semisup)"
      ],
      "metadata": {
        "id": "60Si_aphSh5q",
        "outputId": "4884bb1a-f738-40bc-afb8-44ef728b04c2",
        "colab": {
          "base_uri": "https://localhost:8080/"
        }
      },
      "execution_count": null,
      "outputs": [
        {
          "output_type": "stream",
          "name": "stdout",
          "text": [
            "\n",
            "Acurácia do modelo semi-supervisionado: 0.33\n",
            "\n",
            "Matriz de Confusão (semi-supervisionada):\n",
            "[[0 2]\n",
            " [0 1]]\n",
            "\n",
            "Relatório de Classificação (semi-supervisionado):\n",
            "              precision    recall  f1-score   support\n",
            "\n",
            "    Não Spam       0.00      0.00      0.00         2\n",
            "        Spam       0.33      1.00      0.50         1\n",
            "\n",
            "    accuracy                           0.33         3\n",
            "   macro avg       0.17      0.50      0.25         3\n",
            "weighted avg       0.11      0.33      0.17         3\n",
            "\n"
          ]
        },
        {
          "output_type": "stream",
          "name": "stderr",
          "text": [
            "/usr/local/lib/python3.12/dist-packages/sklearn/utils/validation.py:2732: UserWarning: X has feature names, but SelfTrainingClassifier was fitted without feature names\n",
            "  warnings.warn(\n",
            "/usr/local/lib/python3.12/dist-packages/sklearn/metrics/_classification.py:1565: UndefinedMetricWarning: Precision is ill-defined and being set to 0.0 in labels with no predicted samples. Use `zero_division` parameter to control this behavior.\n",
            "  _warn_prf(average, modifier, f\"{metric.capitalize()} is\", len(result))\n",
            "/usr/local/lib/python3.12/dist-packages/sklearn/metrics/_classification.py:1565: UndefinedMetricWarning: Precision is ill-defined and being set to 0.0 in labels with no predicted samples. Use `zero_division` parameter to control this behavior.\n",
            "  _warn_prf(average, modifier, f\"{metric.capitalize()} is\", len(result))\n",
            "/usr/local/lib/python3.12/dist-packages/sklearn/metrics/_classification.py:1565: UndefinedMetricWarning: Precision is ill-defined and being set to 0.0 in labels with no predicted samples. Use `zero_division` parameter to control this behavior.\n",
            "  _warn_prf(average, modifier, f\"{metric.capitalize()} is\", len(result))\n"
          ]
        }
      ]
    }
  ]
}