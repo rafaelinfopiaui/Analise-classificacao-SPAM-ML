{
  "nbformat": 4,
  "nbformat_minor": 0,
  "metadata": {
    "colab": {
      "provenance": []
    },
    "kernelspec": {
      "name": "python3",
      "display_name": "Python 3"
    },
    "language_info": {
      "name": "python"
    }
  },
  "cells": [
    {
      "cell_type": "markdown",
      "source": [
        "# 🌲 Classificação de Spam com Random Forest\n",
        "\n",
        "Este é o último experimento do nosso projeto! Vamos testar o **Random Forest**, um dos algoritmos mais robustos e populares, para ver se ele consegue superar o desempenho dos modelos anteriores.\n",
        "\n",
        "Ele funciona como um \"conjunto\" de árvores de decisão, combinando seus resultados para obter uma previsão mais precisa e confiável."
      ],
      "metadata": {
        "id": "69p35vaHVB6x"
      }
    },
    {
      "cell_type": "code",
      "execution_count": 1,
      "metadata": {
        "id": "uMv0K4fhUuZ1"
      },
      "outputs": [],
      "source": [
        "### 1. Importar e Preparar os Dados\n",
        "\n",
        "# Importar bibliotecas necessárias\n",
        "import pandas as pd\n",
        "from sklearn.model_selection import train_test_split\n",
        "from sklearn.ensemble import RandomForestClassifier\n",
        "from sklearn.metrics import accuracy_score, confusion_matrix, classification_report"
      ]
    },
    {
      "cell_type": "code",
      "source": [
        "# Criar o DataFrame com os dados da sua tabela\n",
        "data = {\n",
        "    'id': [1, 2, 3, 4, 5, 6, 7, 8, 9, 10],\n",
        "    'n_palavras_suspeitas': [8, 0, 4, 2, 10, 1, 6, 3, 9, 0],\n",
        "    'tamanho_email': [500, 120, 300, 250, 800, 150, 400, 200, 600, 100],\n",
        "    'tem_link': [1, 0, 1, 0, 1, 0, 1, 0, 1, 0],\n",
        "    'rotulo': [1, 0, 1, 0, 1, 0, 1, 0, 1, 1]\n",
        "}\n",
        "df = pd.DataFrame(data)\n",
        "\n",
        "# Separar características (X) e rótulo (y)\n",
        "X = df[['n_palavras_suspeitas', 'tamanho_email', 'tem_link']]\n",
        "y = df['rotulo']\n",
        "\n",
        "# Dividir os dados em conjuntos de treinamento e teste\n",
        "X_treino, X_teste, y_treino, y_teste = train_test_split(X, y, test_size=0.3, random_state=42)\n",
        "\n",
        "print(\"Etapas de preparação concluídas.\")"
      ],
      "metadata": {
        "colab": {
          "base_uri": "https://localhost:8080/"
        },
        "id": "7MqxbSZMVFcn",
        "outputId": "17daf9fe-5eb2-45c5-d14a-27c9218f3860"
      },
      "execution_count": 2,
      "outputs": [
        {
          "output_type": "stream",
          "name": "stdout",
          "text": [
            "Etapas de preparação concluídas.\n"
          ]
        }
      ]
    },
    {
      "cell_type": "markdown",
      "source": [
        "### 2. Treinar o Modelo Random Forest\n",
        "\n",
        "Vamos instanciar e treinar o modelo. O parâmetro `n_estimators` define o número de árvores na floresta. Usaremos um número pequeno por causa do nosso conjunto de dados."
      ],
      "metadata": {
        "id": "-0kpRnjwVG6u"
      }
    },
    {
      "cell_type": "code",
      "source": [
        "# Instanciar o modelo Random Forest\n",
        "# n_estimators define o número de árvores a serem construídas\n",
        "modelo_rf = RandomForestClassifier(n_estimators=10, random_state=42)\n",
        "\n",
        "# Treinar o modelo\n",
        "modelo_rf.fit(X_treino, y_treino)\n",
        "\n",
        "print(\"Modelo Random Forest treinado com sucesso!\")"
      ],
      "metadata": {
        "colab": {
          "base_uri": "https://localhost:8080/"
        },
        "id": "r9pSIp58VIGK",
        "outputId": "1b970e4d-3af5-4414-aee6-47187c59d7cb"
      },
      "execution_count": 3,
      "outputs": [
        {
          "output_type": "stream",
          "name": "stdout",
          "text": [
            "Modelo Random Forest treinado com sucesso!\n"
          ]
        }
      ]
    },
    {
      "cell_type": "markdown",
      "source": [
        "### 3. Fazer Previsões e Avaliar o Desempenho\n",
        "\n",
        "Vamos testar o modelo nos dados de teste e verificar as métricas de desempenho."
      ],
      "metadata": {
        "id": "fb-NPkuqVJPt"
      }
    },
    {
      "cell_type": "code",
      "source": [
        "# Fazer previsões nos dados de teste\n",
        "previsoes_rf = modelo_rf.predict(X_teste)\n",
        "\n",
        "# Avaliar as previsões\n",
        "acuracia_rf = accuracy_score(y_teste, previsoes_rf)\n",
        "matriz_rf = confusion_matrix(y_teste, previsoes_rf)\n",
        "relatorio_rf = classification_report(y_teste, previsoes_rf, target_names=['Não Spam', 'Spam'])\n",
        "\n",
        "print(f\"\\nAcurácia do modelo Random Forest: {acuracia_rf:.2f}\")\n",
        "print(\"\\nMatriz de Confusão (Random Forest):\")\n",
        "print(matriz_rf)\n",
        "print(\"\\nRelatório de Classificação (Random Forest):\")\n",
        "print(relatorio_rf)"
      ],
      "metadata": {
        "colab": {
          "base_uri": "https://localhost:8080/"
        },
        "id": "MUOsr1OZVKu3",
        "outputId": "c6b43a2a-8e89-4e42-8b8a-2d515c3985dc"
      },
      "execution_count": 4,
      "outputs": [
        {
          "output_type": "stream",
          "name": "stdout",
          "text": [
            "\n",
            "Acurácia do modelo Random Forest: 0.33\n",
            "\n",
            "Matriz de Confusão (Random Forest):\n",
            "[[0 2]\n",
            " [0 1]]\n",
            "\n",
            "Relatório de Classificação (Random Forest):\n",
            "              precision    recall  f1-score   support\n",
            "\n",
            "    Não Spam       0.00      0.00      0.00         2\n",
            "        Spam       0.33      1.00      0.50         1\n",
            "\n",
            "    accuracy                           0.33         3\n",
            "   macro avg       0.17      0.50      0.25         3\n",
            "weighted avg       0.11      0.33      0.17         3\n",
            "\n"
          ]
        },
        {
          "output_type": "stream",
          "name": "stderr",
          "text": [
            "/usr/local/lib/python3.12/dist-packages/sklearn/metrics/_classification.py:1565: UndefinedMetricWarning: Precision is ill-defined and being set to 0.0 in labels with no predicted samples. Use `zero_division` parameter to control this behavior.\n",
            "  _warn_prf(average, modifier, f\"{metric.capitalize()} is\", len(result))\n",
            "/usr/local/lib/python3.12/dist-packages/sklearn/metrics/_classification.py:1565: UndefinedMetricWarning: Precision is ill-defined and being set to 0.0 in labels with no predicted samples. Use `zero_division` parameter to control this behavior.\n",
            "  _warn_prf(average, modifier, f\"{metric.capitalize()} is\", len(result))\n",
            "/usr/local/lib/python3.12/dist-packages/sklearn/metrics/_classification.py:1565: UndefinedMetricWarning: Precision is ill-defined and being set to 0.0 in labels with no predicted samples. Use `zero_division` parameter to control this behavior.\n",
            "  _warn_prf(average, modifier, f\"{metric.capitalize()} is\", len(result))\n"
          ]
        }
      ]
    }
  ]
}