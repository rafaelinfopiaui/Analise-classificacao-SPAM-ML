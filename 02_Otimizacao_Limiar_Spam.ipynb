{
  "nbformat": 4,
  "nbformat_minor": 0,
  "metadata": {
    "colab": {
      "provenance": []
    },
    "kernelspec": {
      "name": "python3",
      "display_name": "Python 3"
    },
    "language_info": {
      "name": "python"
    }
  },
  "cells": [
    {
      "cell_type": "markdown",
      "source": [
        "# 🚀 Otimização do Modelo Naïve Bayes\n",
        "\n",
        "Este notebook dá continuidade ao nosso projeto, focando em melhorar a performance do modelo de classificação de spam. Como não podemos adicionar mais dados, vamos otimizar o modelo ajustando o **limiar de probabilidade** para as previsões, buscando reduzir os erros de Falso Positivo.\n",
        "\n",
        "Vamos seguir os mesmos passos iniciais e, em seguida, adicionar a nossa nova lógica de predição."
      ],
      "metadata": {
        "id": "eBT4wnbpRqX1"
      }
    },
    {
      "cell_type": "code",
      "execution_count": null,
      "metadata": {
        "colab": {
          "base_uri": "https://localhost:8080/"
        },
        "id": "saG0HhWxRpFE",
        "outputId": "6d46181e-1254-451e-becd-4a6e01879fa0"
      },
      "outputs": [
        {
          "output_type": "stream",
          "name": "stdout",
          "text": [
            "Etapas iniciais concluídas: Dados preparados e modelo treinado.\n"
          ]
        }
      ],
      "source": [
        "### 1. Importar e Preparar os Dados\n",
        "\n",
        "# Importar bibliotecas\n",
        "import pandas as pd\n",
        "from sklearn.model_selection import train_test_split\n",
        "from sklearn.naive_bayes import GaussianNB\n",
        "from sklearn.metrics import accuracy_score, confusion_matrix, classification_report\n",
        "\n",
        "# Criar o DataFrame com os dados da sua tabela\n",
        "data = {\n",
        "    'id': [1, 2, 3, 4, 5, 6, 7, 8, 9, 10],\n",
        "    'n_palavras_suspeitas': [8, 0, 4, 2, 10, 1, 6, 3, 9, 0],\n",
        "    'tamanho_email': [500, 120, 300, 250, 800, 150, 400, 200, 600, 100],\n",
        "    'tem_link': [1, 0, 1, 0, 1, 0, 1, 0, 1, 0],\n",
        "    'rotulo': [1, 0, 1, 0, 1, 0, 1, 0, 1, 1]\n",
        "}\n",
        "df = pd.DataFrame(data)\n",
        "\n",
        "# Separar características (X) e rótulo (y)\n",
        "X = df[['n_palavras_suspeitas', 'tamanho_email', 'tem_link']]\n",
        "y = df['rotulo']\n",
        "\n",
        "# Dividir os dados em conjuntos de treinamento e teste (mantendo a mesma divisão)\n",
        "X_treino, X_teste, y_treino, y_teste = train_test_split(X, y, test_size=0.3, random_state=42)\n",
        "\n",
        "# Instanciar e treinar o modelo Naïve Bayes\n",
        "modelo_bayes = GaussianNB()\n",
        "modelo_bayes.fit(X_treino, y_treino)\n",
        "\n",
        "print(\"Etapas iniciais concluídas: Dados preparados e modelo treinado.\")"
      ]
    },
    {
      "cell_type": "markdown",
      "source": [
        "### 2. Obter as Probabilidades das Previsões\n",
        "\n",
        "Em vez de obter a classificação final (`spam` ou `não spam`), vamos obter a **probabilidade** de cada previsão. O método `.predict_proba()` retorna uma matriz com a probabilidade de cada amostra pertencer à classe 0 (não spam) e à classe 1 (spam)."
      ],
      "metadata": {
        "id": "x8T2XPcbRtzx"
      }
    },
    {
      "cell_type": "code",
      "source": [
        "# Obter as probabilidades para os dados de teste\n",
        "probabilidades = modelo_bayes.predict_proba(X_teste)\n",
        "\n",
        "# A primeira coluna é a probabilidade de ser 'Não Spam' (0)\n",
        "# A segunda coluna é a probabilidade de ser 'Spam' (1)\n",
        "probabilidades_spam = probabilidades[:, 1]\n",
        "\n",
        "print(\"Probabilidades das previsões (classe 'Spam'):\")\n",
        "print(probabilidades_spam)\n",
        "\n",
        "# Exibir os rótulos reais para comparação\n",
        "print(\"\\nRótulos Reais do Conjunto de Teste:\")\n",
        "print(y_teste.values)"
      ],
      "metadata": {
        "colab": {
          "base_uri": "https://localhost:8080/"
        },
        "id": "O9Lh155tRvEB",
        "outputId": "ca46b052-fe90-469c-a6ba-f3ac32c44866"
      },
      "execution_count": null,
      "outputs": [
        {
          "output_type": "stream",
          "name": "stdout",
          "text": [
            "Probabilidades das previsões (classe 'Spam'):\n",
            "[1.         0.99994679 0.13158603]\n",
            "\n",
            "Rótulos Reais do Conjunto de Teste:\n",
            "[1 0 0]\n"
          ]
        }
      ]
    },
    {
      "cell_type": "markdown",
      "source": [
        "### 3. Implementar um Limiar de Classificação Personalizado\n",
        "\n",
        "Com as probabilidades em mãos, podemos definir nossa própria regra de decisão. Para reduzir os Falsos Positivos, vamos exigir uma probabilidade mais alta para classificar um e-mail como spam.\n",
        "\n",
        "Vamos testar um limiar de **0.8**. Isso significa que a previsão será `SPAM` (1) somente se a probabilidade for maior que `0.8`. Caso contrário, será `NÃO SPAM` (0)."
      ],
      "metadata": {
        "id": "r5PmproiRyqv"
      }
    },
    {
      "cell_type": "code",
      "source": [
        "# Definir o novo limiar\n",
        "limiar = 0.8\n",
        "\n",
        "# Criar uma nova lista de previsões baseada no limiar\n",
        "previsoes_ajustadas = []\n",
        "for prob in probabilidades_spam:\n",
        "    if prob > limiar:\n",
        "        previsoes_ajustadas.append(1)  # Classificar como SPAM\n",
        "    else:\n",
        "        previsoes_ajustadas.append(0)  # Classificar como NÃO SPAM\n",
        "\n",
        "print(f\"Previsões ajustadas com limiar de {limiar}:\")\n",
        "print(previsoes_ajustadas)"
      ],
      "metadata": {
        "colab": {
          "base_uri": "https://localhost:8080/"
        },
        "id": "9Knb9fIBR0C-",
        "outputId": "3996e383-bba5-4668-c4b3-5cc19808faf6"
      },
      "execution_count": null,
      "outputs": [
        {
          "output_type": "stream",
          "name": "stdout",
          "text": [
            "Previsões ajustadas com limiar de 0.8:\n",
            "[1, 1, 0]\n"
          ]
        }
      ]
    },
    {
      "cell_type": "markdown",
      "source": [
        "### 4. Avaliar o Novo Modelo\n",
        "\n",
        "Agora, vamos calcular as métricas de desempenho novamente, mas usando as **previsões ajustadas** para ver o impacto da nossa mudança."
      ],
      "metadata": {
        "id": "ga7gf3EcR1pT"
      }
    },
    {
      "cell_type": "code",
      "source": [
        "# Calcular e imprimir as métricas com as previsões ajustadas\n",
        "acuracia_ajustada = accuracy_score(y_teste, previsoes_ajustadas)\n",
        "print(f\"\\nAcurácia do modelo (ajustada): {acuracia_ajustada:.2f}\")\n",
        "\n",
        "matriz_confusao_ajustada = confusion_matrix(y_teste, previsoes_ajustadas)\n",
        "print(\"\\nMatriz de Confusão (ajustada):\")\n",
        "print(matriz_confusao_ajustada)\n",
        "\n",
        "print(\"\\nRelatório de Classificação (ajustado):\")\n",
        "print(classification_report(y_teste, previsoes_ajustadas, target_names=['Não Spam', 'Spam']))"
      ],
      "metadata": {
        "colab": {
          "base_uri": "https://localhost:8080/"
        },
        "id": "tfg85fYPR26x",
        "outputId": "791d02ef-78d6-4056-e1d5-05143b4a368e"
      },
      "execution_count": null,
      "outputs": [
        {
          "output_type": "stream",
          "name": "stdout",
          "text": [
            "\n",
            "Acurácia do modelo (ajustada): 0.67\n",
            "\n",
            "Matriz de Confusão (ajustada):\n",
            "[[1 1]\n",
            " [0 1]]\n",
            "\n",
            "Relatório de Classificação (ajustado):\n",
            "              precision    recall  f1-score   support\n",
            "\n",
            "    Não Spam       1.00      0.50      0.67         2\n",
            "        Spam       0.50      1.00      0.67         1\n",
            "\n",
            "    accuracy                           0.67         3\n",
            "   macro avg       0.75      0.75      0.67         3\n",
            "weighted avg       0.83      0.67      0.67         3\n",
            "\n"
          ]
        }
      ]
    }
  ]
}