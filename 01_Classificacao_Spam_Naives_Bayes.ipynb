{
  "nbformat": 4,
  "nbformat_minor": 0,
  "metadata": {
    "colab": {
      "provenance": []
    },
    "kernelspec": {
      "name": "python3",
      "display_name": "Python 3"
    },
    "language_info": {
      "name": "python"
    }
  },
  "cells": [
    {
      "cell_type": "markdown",
      "source": [
        "# 🤖 Classificação de Spam com Naïve Bayes\n",
        "\n",
        "Este notebook demonstra o processo completo de construção e avaliação de um modelo de machine learning para classificar e-mails como SPAM ou NÃO SPAM. Utilizaremos o algoritmo **Naïve Bayes**, um método de aprendizado supervisionado, usando a base de dados criada por você.\n",
        "\n",
        "O fluxo de trabalho será o seguinte:\n",
        "1.  **Preparação de Dados:** Criar nossa base de dados com as características e rótulos.\n",
        "2.  **Divisão de Dados:** Separar os dados em conjuntos de treinamento e teste.\n",
        "3.  **Treinamento do Modelo:** Ensinar o modelo a identificar padrões nos dados.\n",
        "4.  **Avaliação:** Verificar a performance do modelo usando métricas importantes como Acurácia e Matriz de Confusão."
      ],
      "metadata": {
        "id": "M3hOgCxJOtHM"
      }
    },
    {
      "cell_type": "markdown",
      "source": [
        "### 1. Importar Bibliotecas Necessárias\n",
        "\n",
        "Vamos começar importando as bibliotecas que nos darão as ferramentas para trabalhar com dados (`pandas`) e treinar o nosso modelo (`scikit-learn`)."
      ],
      "metadata": {
        "id": "OZJm6RqVOwyv"
      }
    },
    {
      "cell_type": "code",
      "source": [
        "### 1. Importar Bibliotecas Necessárias\n",
        "\n",
        "# Importar bibliotecas necessárias\n",
        "import pandas as pd\n",
        "from sklearn.model_selection import train_test_split\n",
        "from sklearn.naive_bayes import GaussianNB\n",
        "from sklearn.metrics import accuracy_score, confusion_matrix, classification_report"
      ],
      "metadata": {
        "id": "nYu_vaF2O91e"
      },
      "execution_count": 1,
      "outputs": []
    },
    {
      "cell_type": "markdown",
      "source": [
        "### 2. Criar a Base de Dados\n",
        "\n",
        "Agora, vamos transformar a sua tabela desenhada em uma estrutura de dados que o Python pode usar: um **DataFrame** do `pandas`."
      ],
      "metadata": {
        "id": "evmAV4-QPAlt"
      }
    },
    {
      "cell_type": "code",
      "source": [
        "# Criar o DataFrame com os dados da sua tabela\n",
        "data = {\n",
        "    'id': [1, 2, 3, 4, 5, 6, 7, 8, 9, 10],\n",
        "    'n_palavras_suspeitas': [8, 0, 4, 2, 10, 1, 6, 3, 9, 0],\n",
        "    'tamanho_email': [500, 120, 300, 250, 800, 150, 400, 200, 600, 100],\n",
        "    'tem_link': [1, 0, 1, 0, 1, 0, 1, 0, 1, 0],\n",
        "    'rotulo': [1, 0, 1, 0, 1, 0, 1, 0, 1, 1]\n",
        "}\n",
        "\n",
        "df = pd.DataFrame(data)\n",
        "\n",
        "# Exibir o DataFrame para verificar se está correto\n",
        "print(\"Sua Base de Dados Original:\")\n",
        "print(df)"
      ],
      "metadata": {
        "colab": {
          "base_uri": "https://localhost:8080/"
        },
        "id": "q-FyvoxTPBqk",
        "outputId": "78c3a2f7-5e5b-48e0-a0c4-a54ee8819890"
      },
      "execution_count": 2,
      "outputs": [
        {
          "output_type": "stream",
          "name": "stdout",
          "text": [
            "Sua Base de Dados Original:\n",
            "   id  n_palavras_suspeitas  tamanho_email  tem_link  rotulo\n",
            "0   1                     8            500         1       1\n",
            "1   2                     0            120         0       0\n",
            "2   3                     4            300         1       1\n",
            "3   4                     2            250         0       0\n",
            "4   5                    10            800         1       1\n",
            "5   6                     1            150         0       0\n",
            "6   7                     6            400         1       1\n",
            "7   8                     3            200         0       0\n",
            "8   9                     9            600         1       1\n",
            "9  10                     0            100         0       1\n"
          ]
        }
      ]
    },
    {
      "cell_type": "markdown",
      "source": [
        "### 3. Separar as Características (X) e o Rótulo (y)\n",
        "\n",
        "Para o machine learning, precisamos separar os dados de entrada (as características, ou `X`) dos dados de saída (o rótulo que queremos prever, ou `y`)."
      ],
      "metadata": {
        "id": "2AvpbNnhPDNh"
      }
    },
    {
      "cell_type": "code",
      "source": [
        "# X são as características (todas as colunas, exceto 'id' e 'rotulo')\n",
        "X = df[['n_palavras_suspeitas', 'tamanho_email', 'tem_link']]\n",
        "\n",
        "# y é o rótulo (o que queremos prever)\n",
        "y = df['rotulo']\n",
        "\n",
        "print(\"\\nCaracterísticas (X):\")\n",
        "print(X.head())\n",
        "print(\"\\nRótulos (y):\")\n",
        "print(y.head())"
      ],
      "metadata": {
        "colab": {
          "base_uri": "https://localhost:8080/"
        },
        "id": "iQ5Jlw_UPEbD",
        "outputId": "1ce6314f-8c3b-4e71-9f81-c6839c24736a"
      },
      "execution_count": 3,
      "outputs": [
        {
          "output_type": "stream",
          "name": "stdout",
          "text": [
            "\n",
            "Características (X):\n",
            "   n_palavras_suspeitas  tamanho_email  tem_link\n",
            "0                     8            500         1\n",
            "1                     0            120         0\n",
            "2                     4            300         1\n",
            "3                     2            250         0\n",
            "4                    10            800         1\n",
            "\n",
            "Rótulos (y):\n",
            "0    1\n",
            "1    0\n",
            "2    1\n",
            "3    0\n",
            "4    1\n",
            "Name: rotulo, dtype: int64\n"
          ]
        }
      ]
    },
    {
      "cell_type": "markdown",
      "source": [
        "### 4. Dividir os Dados em Treinamento e Teste\n",
        "\n",
        "Esta é uma etapa crucial! Para avaliar nosso modelo de forma justa, ele não pode ser testado com os mesmos dados que usou para aprender. Por isso, dividimos o nosso conjunto de dados em duas partes:\n",
        "* **Treinamento:** Para o modelo aprender os padrões.\n",
        "* **Teste:** Para o modelo ser avaliado em dados que ele nunca viu."
      ],
      "metadata": {
        "id": "rj7W3fgSPF12"
      }
    },
    {
      "cell_type": "code",
      "source": [
        "# Dividir os dados em conjuntos de treinamento e teste\n",
        "# test_size=0.3 significa que 30% dos dados serão usados para teste\n",
        "X_treino, X_teste, y_treino, y_teste = train_test_split(X, y, test_size=0.3, random_state=42)\n",
        "\n",
        "print(f\"\\nTamanho do conjunto de Treinamento: {len(X_treino)}\")\n",
        "print(f\"Tamanho do conjunto de Teste: {len(X_teste)}\")\n",
        "\n",
        "print(\"\\nDados usados para treinamento:\")\n",
        "print(X_treino)\n",
        "print(\"\\nDados usados para teste (para avaliação):\")\n",
        "print(X_teste)"
      ],
      "metadata": {
        "colab": {
          "base_uri": "https://localhost:8080/"
        },
        "id": "kX40MYfsPG2t",
        "outputId": "992e120b-1196-4e06-9c18-9132a8e9c945"
      },
      "execution_count": 4,
      "outputs": [
        {
          "output_type": "stream",
          "name": "stdout",
          "text": [
            "\n",
            "Tamanho do conjunto de Treinamento: 7\n",
            "Tamanho do conjunto de Teste: 3\n",
            "\n",
            "Dados usados para treinamento:\n",
            "   n_palavras_suspeitas  tamanho_email  tem_link\n",
            "0                     8            500         1\n",
            "7                     3            200         0\n",
            "2                     4            300         1\n",
            "9                     0            100         0\n",
            "4                    10            800         1\n",
            "3                     2            250         0\n",
            "6                     6            400         1\n",
            "\n",
            "Dados usados para teste (para avaliação):\n",
            "   n_palavras_suspeitas  tamanho_email  tem_link\n",
            "8                     9            600         1\n",
            "1                     0            120         0\n",
            "5                     1            150         0\n"
          ]
        }
      ]
    },
    {
      "cell_type": "markdown",
      "source": [
        "### 5. Treinar o Modelo Naïve Bayes\n",
        "\n",
        "Vamos usar a classe `GaussianNB` da biblioteca `scikit-learn` para criar e treinar o nosso modelo de classificação. O método `.fit()` é responsável por realizar o aprendizado."
      ],
      "metadata": {
        "id": "fkyhIDMwPIPS"
      }
    },
    {
      "cell_type": "code",
      "source": [
        "# Instanciar o modelo Naïve Bayes\n",
        "modelo_bayes = GaussianNB()\n",
        "\n",
        "# Treinar o modelo com os dados de treinamento\n",
        "modelo_bayes.fit(X_treino, y_treino)\n",
        "\n",
        "print(\"\\nModelo Naïve Bayes treinado com sucesso!\")"
      ],
      "metadata": {
        "colab": {
          "base_uri": "https://localhost:8080/"
        },
        "id": "GuuAmwWzPJqC",
        "outputId": "52c65169-006d-47de-ad54-45236a717358"
      },
      "execution_count": 5,
      "outputs": [
        {
          "output_type": "stream",
          "name": "stdout",
          "text": [
            "\n",
            "Modelo Naïve Bayes treinado com sucesso!\n"
          ]
        }
      ]
    },
    {
      "cell_type": "markdown",
      "source": [
        "### 6. Fazer Previsões no Conjunto de Teste\n",
        "\n",
        "Com o modelo treinado, podemos agora usar o método `.predict()` para que ele faça suas previsões nos dados de teste, que ele nunca viu."
      ],
      "metadata": {
        "id": "MF-Cjg83PK17"
      }
    },
    {
      "cell_type": "code",
      "source": [
        "# Fazer previsões nos dados de teste\n",
        "previsoes = modelo_bayes.predict(X_teste)\n",
        "\n",
        "print(\"\\nRótulos Reais do Conjunto de Teste:\")\n",
        "print(y_teste)\n",
        "\n",
        "print(\"\\nPrevisões do Modelo:\")\n",
        "print(previsoes)"
      ],
      "metadata": {
        "colab": {
          "base_uri": "https://localhost:8080/"
        },
        "id": "j2ZMaCaiPLVa",
        "outputId": "df6ce69a-0c69-49d9-f97c-354b20618434"
      },
      "execution_count": 6,
      "outputs": [
        {
          "output_type": "stream",
          "name": "stdout",
          "text": [
            "\n",
            "Rótulos Reais do Conjunto de Teste:\n",
            "8    1\n",
            "1    0\n",
            "5    0\n",
            "Name: rotulo, dtype: int64\n",
            "\n",
            "Previsões do Modelo:\n",
            "[1 1 0]\n"
          ]
        }
      ]
    },
    {
      "cell_type": "markdown",
      "source": [
        "### 7. Avaliar a Performance do Modelo\n",
        "\n",
        "Chegou a hora de verificar se o nosso modelo está funcionando bem! Usaremos algumas métricas de avaliação.\n",
        "\n",
        "#### **7.1. Acurácia**\n",
        "A acurácia é a métrica mais simples: a proporção de classificações corretas sobre o total de classificações.\n",
        "\n",
        "#### **7.2. Matriz de Confusão**\n",
        "A Matriz de Confusão é uma ferramenta poderosa para entender os tipos de erros que o modelo comete.\n",
        "\n",
        "* **Verdadeiro Positivo (VP):** Previu SPAM, e era SPAM.\n",
        "* **Verdadeiro Negativo (VN):** Previu NÃO SPAM, e era NÃO SPAM.\n",
        "* **Falso Positivo (FP):** Previu SPAM, mas era NÃO SPAM (um e-mail importante foi para a caixa de spam).\n",
        "* **Falso Negativo (FN):** Previu NÃO SPAM, mas era SPAM (um e-mail de spam chegou na caixa de entrada).\n",
        "\n",
        "#### **7.3. Relatório de Classificação**\n",
        "Este relatório fornece métricas mais detalhadas como Precisão e Recall para cada classe.\n",
        "* **Precisão:** Das vezes que o modelo disse que era SPAM, quantas ele acertou?\n",
        "* **Recall (Revocação):** De todos os e-mails que eram SPAM de verdade, quantos o modelo conseguiu identificar?"
      ],
      "metadata": {
        "id": "28gyWeREPNdz"
      }
    },
    {
      "cell_type": "code",
      "source": [
        "# 1. Acurácia\n",
        "acuracia = accuracy_score(y_teste, previsoes)\n",
        "print(f\"\\nAcurácia do modelo: {acuracia:.2f}\")\n",
        "\n",
        "# 2. Matriz de Confusão\n",
        "matriz_confusao = confusion_matrix(y_teste, previsoes)\n",
        "print(\"\\nMatriz de Confusão:\")\n",
        "print(matriz_confusao)\n",
        "\n",
        "# 3. Relatório de Classificação\n",
        "print(\"\\nRelatório de Classificação:\")\n",
        "print(classification_report(y_teste, previsoes, target_names=['Não Spam', 'Spam']))"
      ],
      "metadata": {
        "colab": {
          "base_uri": "https://localhost:8080/"
        },
        "id": "UO_dbENqPPaY",
        "outputId": "324e0eb5-393a-4aa0-811b-b79e2eb19636"
      },
      "execution_count": 7,
      "outputs": [
        {
          "output_type": "stream",
          "name": "stdout",
          "text": [
            "\n",
            "Acurácia do modelo: 0.67\n",
            "\n",
            "Matriz de Confusão:\n",
            "[[1 1]\n",
            " [0 1]]\n",
            "\n",
            "Relatório de Classificação:\n",
            "              precision    recall  f1-score   support\n",
            "\n",
            "    Não Spam       1.00      0.50      0.67         2\n",
            "        Spam       0.50      1.00      0.67         1\n",
            "\n",
            "    accuracy                           0.67         3\n",
            "   macro avg       0.75      0.75      0.67         3\n",
            "weighted avg       0.83      0.67      0.67         3\n",
            "\n"
          ]
        }
      ]
    }
  ]
}